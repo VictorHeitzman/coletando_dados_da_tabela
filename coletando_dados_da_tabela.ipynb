{
 "cells": [
  {
   "cell_type": "code",
   "execution_count": 205,
   "metadata": {},
   "outputs": [],
   "source": [
    "from selenium import webdriver as driver\n",
    "from selenium.webdriver.common.keys import Keys\n",
    "from selenium.webdriver.common.by import By\n",
    "from time import sleep\n",
    "\n",
    "import pandas as pd"
   ]
  },
  {
   "cell_type": "code",
   "execution_count": 206,
   "metadata": {},
   "outputs": [],
   "source": [
    "opcao = driver.ChromeOptions()\n",
    "opcao.add_argument('--headless=new')\n",
    "\n",
    "driver = driver.Chrome(options=opcao)\n",
    "driver.get('https://rpachallengeocr.azurewebsites.net/')"
   ]
  },
  {
   "cell_type": "code",
   "execution_count": 207,
   "metadata": {},
   "outputs": [],
   "source": [
    "def next_page():\n",
    "    driver.find_element(By.XPATH, '//*[@id=\"tableSandbox_next\"]').click()"
   ]
  },
  {
   "cell_type": "code",
   "execution_count": 208,
   "metadata": {},
   "outputs": [],
   "source": [
    "table = driver.find_element(By.XPATH,'//*[@id=\"tableSandbox\"]')\n",
    "dados = []\n",
    "for page in range(3):\n",
    "    row = driver.find_element(By.TAG_NAME,'tbody').find_elements(By.TAG_NAME,'tr')\n",
    "    \n",
    "    for c in row:\n",
    "        dados.append(c.text.split(' '))\n",
    "    sleep(1)\n",
    "    next_page()\n",
    "\n",
    "driver.quit()\n"
   ]
  },
  {
   "cell_type": "code",
   "execution_count": 209,
   "metadata": {},
   "outputs": [],
   "source": [
    "df = pd.DataFrame(dados,columns=['teste','teste','teste'])\n",
    "\n",
    "df.to_csv('dados_extraidos.csv',encoding='utf-8', index=None)"
   ]
  }
 ],
 "metadata": {
  "kernelspec": {
   "display_name": "Python 3",
   "language": "python",
   "name": "python3"
  },
  "language_info": {
   "codemirror_mode": {
    "name": "ipython",
    "version": 3
   },
   "file_extension": ".py",
   "mimetype": "text/x-python",
   "name": "python",
   "nbconvert_exporter": "python",
   "pygments_lexer": "ipython3",
   "version": "3.11.3"
  },
  "orig_nbformat": 4
 },
 "nbformat": 4,
 "nbformat_minor": 2
}
